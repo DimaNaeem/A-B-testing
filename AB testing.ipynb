{
 "cells": [
  {
   "cell_type": "code",
   "execution_count": 79,
   "id": "4d8da759",
   "metadata": {},
   "outputs": [
    {
     "ename": "ModuleNotFoundError",
     "evalue": "No module named 'altair'",
     "output_type": "error",
     "traceback": [
      "\u001b[1;31m---------------------------------------------------------------------------\u001b[0m",
      "\u001b[1;31mModuleNotFoundError\u001b[0m                       Traceback (most recent call last)",
      "Cell \u001b[1;32mIn[79], line 5\u001b[0m\n\u001b[0;32m      3\u001b[0m \u001b[38;5;28;01mimport\u001b[39;00m \u001b[38;5;21;01mscipy\u001b[39;00m\u001b[38;5;21;01m.\u001b[39;00m\u001b[38;5;21;01mstats\u001b[39;00m \u001b[38;5;28;01mas\u001b[39;00m \u001b[38;5;21;01mstats\u001b[39;00m\n\u001b[0;32m      4\u001b[0m \u001b[38;5;28;01mfrom\u001b[39;00m \u001b[38;5;21;01mscipy\u001b[39;00m\u001b[38;5;21;01m.\u001b[39;00m\u001b[38;5;21;01mstats\u001b[39;00m \u001b[38;5;28;01mimport\u001b[39;00m norm\n\u001b[1;32m----> 5\u001b[0m \u001b[38;5;28;01mimport\u001b[39;00m \u001b[38;5;21;01maltair\u001b[39;00m \u001b[38;5;28;01mas\u001b[39;00m \u001b[38;5;21;01malt\u001b[39;00m\n\u001b[0;32m      6\u001b[0m alt\u001b[38;5;241m.\u001b[39mdata_transformers\u001b[38;5;241m.\u001b[39mdiable_max_rows()\n\u001b[0;32m      7\u001b[0m \u001b[38;5;28;01mfrom\u001b[39;00m \u001b[38;5;21;01mdatetime\u001b[39;00m \u001b[38;5;28;01mimport\u001b[39;00m datetime\n",
      "\u001b[1;31mModuleNotFoundError\u001b[0m: No module named 'altair'"
     ]
    }
   ],
   "source": [
    "import pandas as pd\n",
    "import numpy as np\n",
    "import scipy.stats as stats\n",
    "from scipy.stats import norm\n",
    "import altair as alt\n",
    "alt.data_transformers.diable_max_rows()\n",
    "from datetime import datetime"
   ]
  },
  {
   "cell_type": "code",
   "execution_count": 80,
   "id": "7a4ba369",
   "metadata": {},
   "outputs": [],
   "source": [
    "##Load the data from .csv file\n",
    "path = r\"C:\\Users\\Dima Naeem\\Downloads\\GloBox_DataSet.csv\"\n",
    "data = pd.read_csv(path)"
   ]
  },
  {
   "cell_type": "code",
   "execution_count": 81,
   "id": "fb7ce8f8",
   "metadata": {},
   "outputs": [
    {
     "name": "stdout",
     "output_type": "stream",
     "text": [
      "        id country    continent gender group     user_group user_join_date  \\\n",
      "0  1000141     BRA           SA      M     A  Control Group     2023-01-25   \n",
      "1  1000261     TUR  Middle East      F     A  Control Group     2023-01-25   \n",
      "2  1000269     USA          NaN      M     A  Control Group     2023-01-25   \n",
      "3  1000601     USA          NaN      F     A  Control Group     2023-01-25   \n",
      "4  1000635     ESP           EU      F     B     Test Group     2023-01-25   \n",
      "\n",
      "  user_device purchase_date  purchased_amount  \n",
      "0           A    2023-01-25             11.49  \n",
      "1           A    2023-01-25            205.98  \n",
      "2           A    2023-01-25            116.29  \n",
      "3           A    2023-01-25             10.79  \n",
      "4           I    2023-01-25             69.21  \n"
     ]
    }
   ],
   "source": [
    "print(data.head())"
   ]
  },
  {
   "cell_type": "code",
   "execution_count": 82,
   "id": "96455b8d",
   "metadata": {},
   "outputs": [
    {
     "data": {
      "text/plain": [
       "A    24402\n",
       "B    24680\n",
       "Name: group, dtype: int64"
      ]
     },
     "execution_count": 82,
     "metadata": {},
     "output_type": "execute_result"
    }
   ],
   "source": [
    "data.group.value_counts().sort_values()\n"
   ]
  },
  {
   "cell_type": "code",
   "execution_count": 83,
   "id": "f84b9685",
   "metadata": {},
   "outputs": [
    {
     "data": {
      "text/plain": [
       "id                      0\n",
       "country               647\n",
       "continent           22148\n",
       "gender               6882\n",
       "group                   0\n",
       "user_group              0\n",
       "user_join_date          0\n",
       "user_device           295\n",
       "purchase_date       46849\n",
       "purchased_amount    46849\n",
       "dtype: int64"
      ]
     },
     "execution_count": 83,
     "metadata": {},
     "output_type": "execute_result"
    }
   ],
   "source": [
    "##find the missing values\n",
    "\n",
    "data.isnull().sum()"
   ]
  },
  {
   "cell_type": "code",
   "execution_count": 48,
   "id": "9718e25f",
   "metadata": {},
   "outputs": [
    {
     "data": {
      "text/plain": [
       "Index(['id', 'country', 'continent', 'gender', 'group', 'user_group',\n",
       "       'user_join_date', 'user_device', 'purchase_date', 'purchased_amount'],\n",
       "      dtype='object')"
      ]
     },
     "execution_count": 48,
     "metadata": {},
     "output_type": "execute_result"
    }
   ],
   "source": [
    "##column names\n",
    "\n",
    "data.columns\n"
   ]
  },
  {
   "cell_type": "code",
   "execution_count": 52,
   "id": "ecc5b474",
   "metadata": {},
   "outputs": [],
   "source": [
    "##fill missing values with 0\n",
    "\n",
    "data.purchased_amount.fillna(0, inplace=True)"
   ]
  },
  {
   "cell_type": "code",
   "execution_count": 53,
   "id": "92284a5b",
   "metadata": {},
   "outputs": [
    {
     "name": "stdout",
     "output_type": "stream",
     "text": [
      "Average amount spent per user for the control group:  3.3663584952053114\n",
      "Average amount spent per user for the control group:  3.379875202593193\n"
     ]
    }
   ],
   "source": [
    "#To calculate the average amount spent per user for the control and treatment groups, you need a dataset containing the columns 'group', 'uid', and 'purchased_amount'.\n",
    "# Group the DataFrame by the 'group' column and calculate the mean of the 'purchased_amount' column\n",
    "\n",
    "\n",
    "group_avg_purchased = data.groupby('group')['purchased_amount'].mean()\n",
    "\n",
    "print(\"Average amount spent per user for the control group: \", group_avg_purchased['A'])\n",
    "print(\"Average amount spent per user for the control group: \", group_avg_purchased['B'])"
   ]
  },
  {
   "cell_type": "code",
   "execution_count": 54,
   "id": "68f01429",
   "metadata": {},
   "outputs": [
    {
     "name": "stdout",
     "output_type": "stream",
     "text": [
      "95% Confidence Interval for Average Amount Spent per User in Control: [3.05, 3.68]\n"
     ]
    }
   ],
   "source": [
    "# What is the 95% confidence interval for the average amount spent per user in the control?\n",
    "# Filter the DataFrame to select only the data for the control group\n",
    "\n",
    "control_data = data[data['group'] == 'A']['purchased_amount']\n",
    "# Calculate the sample mean and standard deviation\n",
    "\n",
    "sample_mean = control_data.mean()\n",
    "sample_std = control_data.std(ddof=1)\n",
    "\n",
    "# Calculate the standard error of the mean\n",
    "n = len(control_data)\n",
    "sem = sample_std / (n ** 0.5)\n",
    "\n",
    "# Calculate the t-value for a 95% confidence interval\n",
    "t = stats.t.ppf(0.975, n - 1)\n",
    "\n",
    "# Calculate the confidence interval\n",
    "lower_ci = sample_mean - t * sem\n",
    "upper_ci = sample_mean + t * sem\n",
    "\n",
    "print(\"95% Confidence Interval for Average Amount Spent per User in Control: [{:.2f}, {:.2f}]\".format(lower_ci, upper_ci))"
   ]
  },
  {
   "cell_type": "code",
   "execution_count": 55,
   "id": "55e646c8",
   "metadata": {},
   "outputs": [
    {
     "name": "stdout",
     "output_type": "stream",
     "text": [
      "95% Confidence Interval for Average Amount Spent per User in Control: [3.07, 3.69]\n"
     ]
    }
   ],
   "source": [
    "# What is the 95% confidence interval for the average amount spent per user in the treatment group?\n",
    "# Filter the DataFrame to select only the data for the control group\n",
    "\n",
    "treatment_data = data[data['group'] == 'B']['purchased_amount']\n",
    "# Calculate the sample mean and standard deviation\n",
    "\n",
    "sample_mean = treatment_data.mean()\n",
    "sample_std = treatment_data.std(ddof=1)\n",
    "\n",
    "# Calculate the standard error of the mean\n",
    "n = len(treatment_data)\n",
    "sem = sample_std / (n ** 0.5)\n",
    "\n",
    "# Calculate the t-value for a 95% confidence interval\n",
    "t = stats.t.ppf(0.975, n - 1)\n",
    "\n",
    "# Calculate the confidence interval\n",
    "lower_ci = sample_mean - t * sem\n",
    "upper_ci = sample_mean + t * sem\n",
    "\n",
    "print(\"95% Confidence Interval for Average Amount Spent per User in Control: [{:.2f}, {:.2f}]\".format(lower_ci, upper_ci))"
   ]
  },
  {
   "cell_type": "code",
   "execution_count": 56,
   "id": "48f0ce1d",
   "metadata": {},
   "outputs": [
    {
     "name": "stderr",
     "output_type": "stream",
     "text": [
      "C:\\Users\\Dima Naeem\\AppData\\Local\\Temp\\ipykernel_21452\\3021424233.py:9: FutureWarning: The default value of numeric_only in DataFrame.mean is deprecated. In a future version, it will default to False. In addition, specifying 'numeric_only=None' is deprecated. Select only valid columns or specify the value of numeric_only to silence this warning.\n",
      "  ctrl_mean = control.mean()\n",
      "C:\\Users\\Dima Naeem\\AppData\\Local\\Temp\\ipykernel_21452\\3021424233.py:10: FutureWarning: The default value of numeric_only in DataFrame.mean is deprecated. In a future version, it will default to False. In addition, specifying 'numeric_only=None' is deprecated. Select only valid columns or specify the value of numeric_only to silence this warning.\n",
      "  trtm_mean = treatment.mean()\n",
      "C:\\Users\\Dima Naeem\\AppData\\Local\\Temp\\ipykernel_21452\\3021424233.py:11: FutureWarning: The default value of numeric_only in DataFrame.std is deprecated. In a future version, it will default to False. In addition, specifying 'numeric_only=None' is deprecated. Select only valid columns or specify the value of numeric_only to silence this warning.\n",
      "  ctrl_std = control.std(ddof=1)\n"
     ]
    },
    {
     "name": "stdout",
     "output_type": "stream",
     "text": [
      "t-value: id                  47.460702\n",
      "purchased_amount    -0.298973\n",
      "dtype: float64\n",
      "p-value: [0.        0.7649617]\n"
     ]
    },
    {
     "name": "stderr",
     "output_type": "stream",
     "text": [
      "C:\\Users\\Dima Naeem\\AppData\\Local\\Temp\\ipykernel_21452\\3021424233.py:12: FutureWarning: The default value of numeric_only in DataFrame.std is deprecated. In a future version, it will default to False. In addition, specifying 'numeric_only=None' is deprecated. Select only valid columns or specify the value of numeric_only to silence this warning.\n",
      "  trtm_std = treatment.std(ddof=1)\n"
     ]
    },
    {
     "ename": "ValueError",
     "evalue": "The truth value of an array with more than one element is ambiguous. Use a.any() or a.all()",
     "output_type": "error",
     "traceback": [
      "\u001b[1;31m---------------------------------------------------------------------------\u001b[0m",
      "\u001b[1;31mValueError\u001b[0m                                Traceback (most recent call last)",
      "Cell \u001b[1;32mIn[56], line 30\u001b[0m\n\u001b[0;32m     28\u001b[0m \u001b[38;5;66;03m# Test the hypothesis at the 5% significance level\u001b[39;00m\n\u001b[0;32m     29\u001b[0m alpha \u001b[38;5;241m=\u001b[39m \u001b[38;5;241m0.05\u001b[39m\n\u001b[1;32m---> 30\u001b[0m \u001b[38;5;28;01mif\u001b[39;00m \u001b[43mp\u001b[49m\u001b[43m \u001b[49m\u001b[38;5;241;43m<\u001b[39;49m\u001b[43m \u001b[49m\u001b[43malpha\u001b[49m:\n\u001b[0;32m     31\u001b[0m     \u001b[38;5;28mprint\u001b[39m(\u001b[38;5;124m\"\u001b[39m\u001b[38;5;124mReject the null hypothesis - there is no difference in the mean amount spent per user between the control and treatment\u001b[39m\u001b[38;5;124m\"\u001b[39m)\n\u001b[0;32m     32\u001b[0m \u001b[38;5;28;01melse\u001b[39;00m:\n",
      "\u001b[1;31mValueError\u001b[0m: The truth value of an array with more than one element is ambiguous. Use a.any() or a.all()"
     ]
    }
   ],
   "source": [
    "## Conduct a hypothesis test to see whether there is a difference in the average amount spent per user between the two groups. What are the resulting p-value and conclusion? This question is required.*\n",
    "##Use the t distribution and a 5% significance level. Assume unequal variance.##\n",
    "\n",
    "# Calculate the sample means and standard deviations\n",
    "\n",
    "control = data[data['group'] == 'A']\n",
    "treatment = data[data['group'] == 'B']\n",
    "\n",
    "ctrl_mean = control.mean()\n",
    "trtm_mean = treatment.mean()\n",
    "ctrl_std = control.std(ddof=1)\n",
    "trtm_std = treatment.std(ddof=1)\n",
    "\n",
    "# Calculate the pooled standard deviation\n",
    "sp = ((n1-1)*ctrl_std**2 + (n2-1)*trtm_std**2)/(n1+n2-2)\n",
    "sp = sp**0.5\n",
    "\n",
    "# Calculate the t-value and p-value for a two-tailed test\n",
    "n1 = len(control)\n",
    "n2 = len(treatment)\n",
    "t = (ctrl_mean - trtm_mean)/(sp*(1/n1 + 1/n2))**0.5\n",
    "df = n1 + n2 - 2\n",
    "p = stats.t.sf(abs(t), df)*2\n",
    "\n",
    "print(\"t-value:\", t)\n",
    "print(\"p-value:\", p)\n",
    "\n",
    "# Test the hypothesis at the 5% significance level\n",
    "alpha = 0.05\n",
    "if p < alpha:\n",
    "    print(\"Reject the null hypothesis - there is no difference in the mean amount spent per user between the control and treatment\")\n",
    "else:\n",
    "    print(\"Fail to reject the null hypothesis - there is not a significant difference in average amount spent per user between the two groups.\")"
   ]
  },
  {
   "cell_type": "code",
   "execution_count": 57,
   "id": "5944b370",
   "metadata": {},
   "outputs": [
    {
     "name": "stdout",
     "output_type": "stream",
     "text": [
      "t-value: -0.059699361967889275\n",
      "95% Confidence Interval: (-0.45728883726496844, 0.43025542248920506)\n"
     ]
    },
    {
     "name": "stderr",
     "output_type": "stream",
     "text": [
      "C:\\Users\\Dima Naeem\\AppData\\Local\\Temp\\ipykernel_21452\\1562804207.py:25: DeprecationWarning: Use of keyword argument 'alpha' for method 'interval' is deprecated and wil be removed in SciPy 1.11.0. Use first positional argument or keyword argument 'confidence' instead.\n",
      "  ci_low, ci_high = stats.t.interval(alpha=1-alpha, df=df, loc=(ctrl_mean - trtm_mean), scale=(sp*(1/n1 + 1/n2))**0.5)\n"
     ]
    }
   ],
   "source": [
    "##What is the 95% confidence interval for the difference in the average amount spent per user between the treatment and the control (treatment-control)? This question is required.*\n",
    "##Use the t distribution and assume unequal variance.\n",
    "\n",
    "\n",
    "\n",
    "# Separate the data into two groups based on user_group\n",
    "control = data.loc[data['user_group'] == 'Control Group', 'purchased_amount']\n",
    "treatment = data.loc[data['user_group'] == 'Test Group', 'purchased_amount']\n",
    "\n",
    "# Calculate the sample means and standard deviations\n",
    "ctrl_mean = control.mean()\n",
    "trtm_mean = treatment.mean()\n",
    "ctrl_std = control.std(ddof=1)\n",
    "trtm_std = treatment.std(ddof=1)\n",
    "\n",
    "# Calculate the t-value and degrees of freedom\n",
    "n1 = len(control)\n",
    "n2 = len(treatment)\n",
    "df = n1 + n2 - 2\n",
    "sp = ((n1-1)*ctrl_std**2 + (n2-1)*trtm_std**2)/(n1+n2-2)\n",
    "t_value = (ctrl_mean - trtm_mean)/((sp*(1/n1 + 1/n2))**0.5)\n",
    "\n",
    "# Calculate the confidence interval\n",
    "alpha = 0.05\n",
    "ci_low, ci_high = stats.t.interval(alpha=1-alpha, df=df, loc=(ctrl_mean - trtm_mean), scale=(sp*(1/n1 + 1/n2))**0.5)\n",
    "\n",
    "print(\"t-value:\", t_value)\n",
    "print(\"95% Confidence Interval:\", (ci_low, ci_high))"
   ]
  },
  {
   "cell_type": "code",
   "execution_count": 60,
   "id": "df1d7214",
   "metadata": {},
   "outputs": [
    {
     "name": "stdout",
     "output_type": "stream",
     "text": [
      "Control conversion rate: 0.03923099042845993\n",
      "Treatment conversion rate: 0.04630081300813008\n"
     ]
    }
   ],
   "source": [
    "# What is the user conversion rate for the control and treatment groups? This question is required.*\n",
    "\n",
    "\n",
    "# Calculate the conversion rates for the control and treatment groups\n",
    "control_data = data.loc[data['user_group'] == 'Control Group', ['id', 'purchased_amount', 'user_group']]\n",
    "treatment_data = data.loc[data['user_group'] == 'Test Group', ['id', 'purchased_amount', 'user_group']]\n",
    "\n",
    "control_converted = control_data.loc[control_data['purchased_amount'] > 0, 'id'].nunique()\n",
    "treatment_converted = treatment_data.loc[treatment_data['purchased_amount'] > 0, 'id'].nunique()\n",
    "\n",
    "control_total = control_data['id'].nunique()\n",
    "treatment_total = treatment_data['id'].nunique()\n",
    "\n",
    "control_conversion_rate = control_converted / control_total\n",
    "treatment_conversion_rate = treatment_converted / treatment_total\n",
    "\n",
    "print(\"Control conversion rate:\", control_conversion_rate)\n",
    "print(\"Treatment conversion rate:\", treatment_conversion_rate)"
   ]
  },
  {
   "cell_type": "code",
   "execution_count": 69,
   "id": "cf81d263",
   "metadata": {},
   "outputs": [
    {
     "name": "stdout",
     "output_type": "stream",
     "text": [
      "Control conversion rate: 0.03923099042845993\n",
      "95% Confidence Interval for Control Conversion Rate: (0.0368, 0.0417)\n"
     ]
    }
   ],
   "source": [
    "# Calculate the conversion rate and standard error for the control group\n",
    "control_data = data.loc[data['user_group'] == 'Control Group', ['id', 'purchased_amount', 'user_group']]\n",
    "control_converted = control_data.loc[control_data['purchased_amount'] > 0, 'id'].nunique()\n",
    "control_total = control_data['id'].nunique()\n",
    "control_p = control_converted / control_total\n",
    "control_se = np.sqrt(control_p*(1-control_p)/control_total)\n",
    "\n",
    "# Calculate the confidence interval for the control group\n",
    "conf_level = 0.95  # 95% confidence interval\n",
    "z_score = norm.ppf(1 - (1 - conf_level) / 2)\n",
    "ci_lower = control_p - z_score * control_se\n",
    "ci_upper = control_p + z_score * control_se\n",
    "\n",
    "print(\"Control conversion rate:\", control_p)\n",
    "print(\"95% Confidence Interval for Control Conversion Rate: ({:.4f}, {:.4f})\".format(ci_lower, ci_upper))\n"
   ]
  },
  {
   "cell_type": "code",
   "execution_count": 72,
   "id": "5ee19470",
   "metadata": {},
   "outputs": [
    {
     "name": "stdout",
     "output_type": "stream",
     "text": [
      "Treatment conversion rate: 0.04630081300813008\n",
      "95% Confidence Interval for Treatment Conversion Rate: (0.0437, 0.0489)\n"
     ]
    }
   ],
   "source": [
    "# Calculate the conversion rate and standard error for the Treatment group\n",
    "control_data = data.loc[data['user_group'] == 'Test Group', ['id', 'purchased_amount', 'user_group']]\n",
    "control_converted = control_data.loc[control_data['purchased_amount'] > 0, 'id'].nunique()\n",
    "control_total = control_data['id'].nunique()\n",
    "control_p = control_converted / control_total\n",
    "control_se = np.sqrt(control_p*(1-control_p)/control_total)\n",
    "\n",
    "# Calculate the confidence interval for the control group\n",
    "conf_level = 0.95  # 95% confidence interval\n",
    "z_score = norm.ppf(1 - (1 - conf_level) / 2)\n",
    "ci_lower = control_p - z_score * control_se\n",
    "ci_upper = control_p + z_score * control_se\n",
    "\n",
    "print(\"Treatment conversion rate:\", control_p)\n",
    "print(\"95% Confidence Interval for Treatment Conversion Rate: ({:.4f}, {:.4f})\".format(ci_lower, ci_upper))"
   ]
  },
  {
   "cell_type": "code",
   "execution_count": 90,
   "id": "ad821fc9",
   "metadata": {},
   "outputs": [
    {
     "name": "stdout",
     "output_type": "stream",
     "text": [
      "p-value: nan\n",
      "Fail to reject the null hypothesis and conclude that there is no difference in the conversion rate between the two groups.\n"
     ]
    },
    {
     "name": "stderr",
     "output_type": "stream",
     "text": [
      "C:\\Users\\Dima Naeem\\AppData\\Local\\Temp\\ipykernel_21452\\3472264069.py:18: RuntimeWarning: invalid value encountered in sqrt\n",
      "  standard_error = np.sqrt(pooled_proportion * (1 - pooled_proportion) * ((1 / control_users) + (1 / treatment_users)))\n"
     ]
    }
   ],
   "source": [
    "##Conduct a hypothesis test to see whether there is a difference in the conversion rate between the two groups. What are the resulting p-value and conclusion? \n",
    "\n",
    "\n",
    "# Calculate the number of conversions and users in the control and treatment groups\n",
    "control_conversions = data.loc[data['user_group'] == 'Control Group', 'purchased_amount'].sum()\n",
    "control_users = data.loc[data['user_group'] == 'Control Group', 'id'].nunique()\n",
    "treatment_conversions = data.loc[data['user_group'] == 'Test Group', 'purchased_amount'].sum()\n",
    "treatment_users = data.loc[data['user_group'] == 'Test Group', 'id'].nunique()\n",
    "\n",
    "# Calculate the conversion rates for the control and treatment groups\n",
    "control_conversion_rate = control_conversions / control_users\n",
    "treatment_conversion_rate = treatment_conversions / treatment_users\n",
    "\n",
    "# Calculate the pooled proportion for the standard error\n",
    "pooled_proportion = (control_conversions + treatment_conversions) / (control_users + treatment_users)\n",
    "\n",
    "# Calculate the standard error of the difference in proportions using the pooled proportion\n",
    "standard_error = np.sqrt(pooled_proportion * (1 - pooled_proportion) * ((1 / control_users) + (1 / treatment_users)))\n",
    "\n",
    "# Calculate the test statistic (z-score)\n",
    "z_score = (treatment_conversion_rate - control_conversion_rate) / standard_error\n",
    "\n",
    "# Calculate the p-value\n",
    "p_value = 2 * norm.sf(abs(z_score))\n",
    "print(\"p-value:\",p_value)\n",
    "\n",
    "# Compare the p-value with the significance level and make a conclusion\n",
    "significance_level = 0.05\n",
    "if p_value < significance_level:\n",
    "    print(\"Reject the null hypothesis and conclude that there is a difference in the conversion rate between the two groups.\")\n",
    "else:\n",
    "    print(\"Fail to reject the null hypothesis and conclude that there is no difference in the conversion rate between the two groups.\")\n",
    "\n"
   ]
  },
  {
   "cell_type": "code",
   "execution_count": 95,
   "id": "8581a485",
   "metadata": {},
   "outputs": [
    {
     "name": "stdout",
     "output_type": "stream",
     "text": [
      "The 95% confidence interval for the difference in conversion rate between the treatment and control groups is (nan, nan)\n"
     ]
    },
    {
     "name": "stderr",
     "output_type": "stream",
     "text": [
      "C:\\Users\\Dima Naeem\\AppData\\Local\\Temp\\ipykernel_21452\\2177142916.py:14: RuntimeWarning: invalid value encountered in sqrt\n",
      "  control_std_error = np.sqrt(control_conv_rate*(1-control_conv_rate)/control_size)\n",
      "C:\\Users\\Dima Naeem\\AppData\\Local\\Temp\\ipykernel_21452\\2177142916.py:15: RuntimeWarning: invalid value encountered in sqrt\n",
      "  treatment_std_error = np.sqrt(treatment_conv_rate*(1-treatment_conv_rate)/treatment_size)\n"
     ]
    }
   ],
   "source": [
    "##What is the 95% confidence interval for the difference in the conversion rate between the treatment and control (treatment-control)? This question is required.*\n",
    "##Use the normal distribution and unpooled proportions for the standard error.\n",
    "\n",
    "\n",
    "# Calculate conversion rates for control and treatment groups\n",
    "control_conv_rate = data.loc[data['user_group'] == 'Control Group']['purchased_amount'].mean()\n",
    "treatment_conv_rate = data.loc[data['user_group'] == 'Test Group']['purchased_amount'].mean()\n",
    "\n",
    "# Calculate sample sizes for control and treatment groups\n",
    "control_size = data.loc[data['user_group'] == 'Control Group'].shape[0]\n",
    "treatment_size = data.loc[data['user_group'] == 'Test Group'].shape[0]\n",
    "\n",
    "# Calculate standard errors for control and treatment groups\n",
    "control_std_error = np.sqrt(control_conv_rate*(1-control_conv_rate)/control_size)\n",
    "treatment_std_error = np.sqrt(treatment_conv_rate*(1-treatment_conv_rate)/treatment_size)\n",
    "\n",
    "# Calculate standard error for the difference in conversion rates\n",
    "std_error_diff = np.sqrt(control_std_error**2 + treatment_std_error**2)\n",
    "\n",
    "# Calculate the difference in conversion rates\n",
    "conv_rate_diff = treatment_conv_rate - control_conv_rate\n",
    "\n",
    "# Calculate the lower and upper bounds of the confidence interval\n",
    "margin_error = 1.96 * std_error_diff  # 1.96 is the z-value for a 95% confidence interval\n",
    "lower_bound = conv_rate_diff - margin_error\n",
    "upper_bound = conv_rate_diff + margin_error\n",
    "\n",
    "# Print the confidence interval\n",
    "print(f\"The 95% confidence interval for the difference in conversion rate between the treatment and control groups is ({lower_bound:.4f}, {upper_bound:.4f})\")"
   ]
  }
 ],
 "metadata": {
  "kernelspec": {
   "display_name": "Python 3 (ipykernel)",
   "language": "python",
   "name": "python3"
  },
  "language_info": {
   "codemirror_mode": {
    "name": "ipython",
    "version": 3
   },
   "file_extension": ".py",
   "mimetype": "text/x-python",
   "name": "python",
   "nbconvert_exporter": "python",
   "pygments_lexer": "ipython3",
   "version": "3.10.9"
  }
 },
 "nbformat": 4,
 "nbformat_minor": 5
}
